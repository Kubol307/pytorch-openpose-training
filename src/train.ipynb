{
 "cells": [
  {
   "cell_type": "code",
   "execution_count": 1,
   "metadata": {},
   "outputs": [
    {
     "name": "stdout",
     "output_type": "stream",
     "text": [
      "/bin/pip:6: DeprecationWarning: pkg_resources is deprecated as an API. See https://setuptools.pypa.io/en/latest/pkg_resources.html\n",
      "  from pkg_resources import load_entry_point\n",
      "Requirement already satisfied: import-ipynb in /home/jakub/.local/lib/python3.8/site-packages (0.1.4)\n",
      "Requirement already satisfied: IPython in /home/jakub/.local/lib/python3.8/site-packages (from import-ipynb) (8.12.2)\n",
      "Requirement already satisfied: nbformat in /home/jakub/.local/lib/python3.8/site-packages (from import-ipynb) (5.9.1)\n",
      "Requirement already satisfied: backcall in /home/jakub/.local/lib/python3.8/site-packages (from IPython->import-ipynb) (0.2.0)\n",
      "Requirement already satisfied: decorator in /home/jakub/.local/lib/python3.8/site-packages (from IPython->import-ipynb) (5.1.1)\n",
      "Requirement already satisfied: jedi>=0.16 in /home/jakub/.local/lib/python3.8/site-packages (from IPython->import-ipynb) (0.18.2)\n",
      "Requirement already satisfied: matplotlib-inline in /home/jakub/.local/lib/python3.8/site-packages (from IPython->import-ipynb) (0.1.6)\n",
      "Requirement already satisfied: pickleshare in /home/jakub/.local/lib/python3.8/site-packages (from IPython->import-ipynb) (0.7.5)\n",
      "Requirement already satisfied: prompt-toolkit!=3.0.37,<3.1.0,>=3.0.30 in /home/jakub/.local/lib/python3.8/site-packages (from IPython->import-ipynb) (3.0.39)\n",
      "Requirement already satisfied: pygments>=2.4.0 in /home/jakub/.local/lib/python3.8/site-packages (from IPython->import-ipynb) (2.15.1)\n",
      "Requirement already satisfied: stack-data in /home/jakub/.local/lib/python3.8/site-packages (from IPython->import-ipynb) (0.6.2)\n",
      "Requirement already satisfied: traitlets>=5 in /home/jakub/.local/lib/python3.8/site-packages (from IPython->import-ipynb) (5.9.0)\n",
      "Requirement already satisfied: typing-extensions; python_version < \"3.10\" in /home/jakub/.local/lib/python3.8/site-packages (from IPython->import-ipynb) (4.5.0)\n",
      "Requirement already satisfied: pexpect>4.3; sys_platform != \"win32\" in /usr/lib/python3/dist-packages (from IPython->import-ipynb) (4.6.0)\n",
      "Requirement already satisfied: fastjsonschema in /home/jakub/.local/lib/python3.8/site-packages (from nbformat->import-ipynb) (2.17.1)\n",
      "Requirement already satisfied: jsonschema>=2.6 in /home/jakub/.local/lib/python3.8/site-packages (from nbformat->import-ipynb) (4.18.0)\n",
      "Requirement already satisfied: jupyter-core in /home/jakub/.local/lib/python3.8/site-packages (from nbformat->import-ipynb) (5.3.1)\n",
      "Requirement already satisfied: parso<0.9.0,>=0.8.0 in /home/jakub/.local/lib/python3.8/site-packages (from jedi>=0.16->IPython->import-ipynb) (0.8.3)\n",
      "Requirement already satisfied: wcwidth in /usr/lib/python3/dist-packages (from prompt-toolkit!=3.0.37,<3.1.0,>=3.0.30->IPython->import-ipynb) (0.1.8)\n",
      "Requirement already satisfied: executing>=1.2.0 in /home/jakub/.local/lib/python3.8/site-packages (from stack-data->IPython->import-ipynb) (1.2.0)\n",
      "Requirement already satisfied: asttokens>=2.1.0 in /home/jakub/.local/lib/python3.8/site-packages (from stack-data->IPython->import-ipynb) (2.2.1)\n",
      "Requirement already satisfied: pure-eval in /home/jakub/.local/lib/python3.8/site-packages (from stack-data->IPython->import-ipynb) (0.2.2)\n",
      "Requirement already satisfied: attrs>=22.2.0 in /home/jakub/.local/lib/python3.8/site-packages (from jsonschema>=2.6->nbformat->import-ipynb) (23.1.0)\n",
      "Requirement already satisfied: importlib-resources>=1.4.0; python_version < \"3.9\" in /home/jakub/.local/lib/python3.8/site-packages (from jsonschema>=2.6->nbformat->import-ipynb) (5.12.0)\n",
      "Requirement already satisfied: jsonschema-specifications>=2023.03.6 in /home/jakub/.local/lib/python3.8/site-packages (from jsonschema>=2.6->nbformat->import-ipynb) (2023.6.1)\n",
      "Requirement already satisfied: pkgutil-resolve-name>=1.3.10; python_version < \"3.9\" in /home/jakub/.local/lib/python3.8/site-packages (from jsonschema>=2.6->nbformat->import-ipynb) (1.3.10)\n",
      "Requirement already satisfied: referencing>=0.28.4 in /home/jakub/.local/lib/python3.8/site-packages (from jsonschema>=2.6->nbformat->import-ipynb) (0.29.1)\n",
      "Requirement already satisfied: rpds-py>=0.7.1 in /home/jakub/.local/lib/python3.8/site-packages (from jsonschema>=2.6->nbformat->import-ipynb) (0.8.10)\n",
      "Requirement already satisfied: platformdirs>=2.5 in /home/jakub/.local/lib/python3.8/site-packages (from jupyter-core->nbformat->import-ipynb) (3.5.1)\n",
      "Requirement already satisfied: six in /usr/lib/python3/dist-packages (from asttokens>=2.1.0->stack-data->IPython->import-ipynb) (1.14.0)\n",
      "Requirement already satisfied: zipp>=3.1.0; python_version < \"3.10\" in /home/jakub/.local/lib/python3.8/site-packages (from importlib-resources>=1.4.0; python_version < \"3.9\"->jsonschema>=2.6->nbformat->import-ipynb) (3.15.0)\n"
     ]
    }
   ],
   "source": [
    "! pip install import-ipynb"
   ]
  },
  {
   "cell_type": "code",
   "execution_count": 2,
   "metadata": {},
   "outputs": [
    {
     "name": "stderr",
     "output_type": "stream",
     "text": [
      "/tmp/ipykernel_32778/2162950386.py:6: DeprecationWarning: Please use `gaussian_filter` from the `scipy.ndimage` namespace, the `scipy.ndimage.filters` namespace is deprecated.\n",
      "  from scipy.ndimage.filters import gaussian_filter\n"
     ]
    },
    {
     "name": "stdout",
     "output_type": "stream",
     "text": [
      "importing Jupyter notebook from train_model.ipynb\n",
      "importing Jupyter notebook from coco_dataset.ipynb\n"
     ]
    }
   ],
   "source": [
    "from model import BodyposeModel\n",
    "import cv2\n",
    "import numpy as np\n",
    "import math\n",
    "import time\n",
    "from scipy.ndimage.filters import gaussian_filter\n",
    "import matplotlib.pyplot as plt\n",
    "import matplotlib\n",
    "import torch\n",
    "from torchvision import transforms\n",
    "import util\n",
    "from torchsummary import summary\n",
    "from body import Body\n",
    "import import_ipynb\n",
    "from train_model import BodyposeBackbone, MainModel\n",
    "from coco_dataset import COCODataset, transform_image\n",
    "from copy import deepcopy"
   ]
  },
  {
   "cell_type": "code",
   "execution_count": 3,
   "metadata": {},
   "outputs": [],
   "source": [
    "NO_OF_OUTPUTS = 21"
   ]
  },
  {
   "cell_type": "code",
   "execution_count": 26,
   "metadata": {},
   "outputs": [],
   "source": [
    "colors = [[255, 0, 0], [255, 85, 0], [255, 170, 0], [255, 255, 0], [170, 255, 0], [85, 255, 0], [0, 255, 0], \\\n",
    "            [0, 255, 85], [0, 255, 170], [0, 255, 255], [0, 170, 255], [0, 85, 255], [0, 0, 255], [85, 0, 255], \\\n",
    "            [170, 0, 255], [255, 0, 255], [255, 0, 170], [255, 0, 85]]"
   ]
  },
  {
   "cell_type": "code",
   "execution_count": 4,
   "metadata": {},
   "outputs": [],
   "source": [
    "backbone_model_path = '../model/body_pose_model.pth'"
   ]
  },
  {
   "cell_type": "code",
   "execution_count": 5,
   "metadata": {},
   "outputs": [],
   "source": [
    "backbone_model = BodyposeBackbone()"
   ]
  },
  {
   "cell_type": "code",
   "execution_count": 6,
   "metadata": {},
   "outputs": [],
   "source": [
    "backbone_params = torch.load(backbone_model_path)"
   ]
  },
  {
   "cell_type": "code",
   "execution_count": 7,
   "metadata": {},
   "outputs": [],
   "source": [
    "backbone_dict = util.transfer(backbone_model, backbone_params)"
   ]
  },
  {
   "cell_type": "code",
   "execution_count": 8,
   "metadata": {},
   "outputs": [
    {
     "data": {
      "text/plain": [
       "<All keys matched successfully>"
      ]
     },
     "execution_count": 8,
     "metadata": {},
     "output_type": "execute_result"
    }
   ],
   "source": [
    "backbone_model.load_state_dict(backbone_dict)"
   ]
  },
  {
   "cell_type": "code",
   "execution_count": 9,
   "metadata": {},
   "outputs": [],
   "source": [
    "main_model = MainModel(NO_OF_OUTPUTS)"
   ]
  },
  {
   "cell_type": "code",
   "execution_count": 10,
   "metadata": {},
   "outputs": [
    {
     "name": "stdout",
     "output_type": "stream",
     "text": [
      "loading annotations into memory...\n",
      "Done (t=0.12s)\n",
      "creating index...\n",
      "index created!\n"
     ]
    }
   ],
   "source": [
    "train_data = COCODataset('/media/jakub/One Touch/coco_pose/coco2017labels-pose/coco-pose', transforms=transform_image(split='train'))"
   ]
  },
  {
   "cell_type": "code",
   "execution_count": 14,
   "metadata": {},
   "outputs": [],
   "source": [
    "anns = []\n",
    "cats = []\n"
   ]
  },
  {
   "cell_type": "code",
   "execution_count": 15,
   "metadata": {},
   "outputs": [],
   "source": [
    "skeleton = train_data.coco.cats[1]['skeleton']\n",
    "skeleton = [[connection[0]-1, connection[1]-1] for connection in skeleton]"
   ]
  },
  {
   "cell_type": "code",
   "execution_count": 16,
   "metadata": {},
   "outputs": [],
   "source": [
    "for id in train_data.coco.getAnnIds():\n",
    "    if train_data.coco.anns[id]['image_id'] == train_data.coco.getImgIds()[0]:\n",
    "        ann = train_data.coco.anns[id]\n",
    "        anns.append(ann)\n"
   ]
  },
  {
   "cell_type": "code",
   "execution_count": 18,
   "metadata": {},
   "outputs": [],
   "source": [
    "bbox = anns[0]['bbox']"
   ]
  },
  {
   "cell_type": "code",
   "execution_count": 19,
   "metadata": {},
   "outputs": [],
   "source": [
    "keypoints = anns[0]['keypoints']"
   ]
  },
  {
   "cell_type": "code",
   "execution_count": 20,
   "metadata": {},
   "outputs": [],
   "source": [
    "keypoints = [[keypoints[i], keypoints[i+1], keypoints[i+2]] for i in range(0, len(keypoints), 3)]"
   ]
  },
  {
   "cell_type": "code",
   "execution_count": 21,
   "metadata": {},
   "outputs": [],
   "source": [
    "bbox = [int(box) for box in bbox]"
   ]
  },
  {
   "cell_type": "code",
   "execution_count": null,
   "metadata": {},
   "outputs": [],
   "source": [
    "\n",
    "    "
   ]
  },
  {
   "cell_type": "code",
   "execution_count": 27,
   "metadata": {},
   "outputs": [],
   "source": [
    "image = train_data._load_image(train_data.coco.getImgIds()[0])\n",
    "cv2.rectangle(image, (bbox[0], bbox[1]), (bbox[0]+bbox[2], bbox[1]+bbox[3]), (0, 0, 255))\n",
    "for i, connection in enumerate(skeleton):\n",
    "    point1 = keypoints[connection[0]]\n",
    "    point2 = keypoints[connection[1]]\n",
    "    if point1[2] != 0 and point2[2] != 0:\n",
    "        cv2.line(image, point1[:-1], point2[:-1], color=colors[i], thickness=3)\n",
    "cv2.imshow('Example image', image)\n",
    "cv2.waitKey(5_000)\n",
    "cv2.destroyAllWindows()"
   ]
  },
  {
   "cell_type": "code",
   "execution_count": null,
   "metadata": {},
   "outputs": [],
   "source": []
  },
  {
   "cell_type": "code",
   "execution_count": null,
   "metadata": {},
   "outputs": [],
   "source": [
    "\n"
   ]
  },
  {
   "cell_type": "code",
   "execution_count": 23,
   "metadata": {},
   "outputs": [],
   "source": [
    "def train(backbone_model, main_model, loss, optimizer, inputs, outputs):\n",
    "    optimizer.zero_grad()\n",
    "    main_model.train()\n",
    "\n",
    "    out1 = backbone_model(inputs)\n",
    "    logits = main_model(out1)\n",
    "    output = loss.forward(logits, outputs)\n",
    "    output.backward()\n",
    "    optimizer.step()\n",
    "\n",
    "    return output.item()"
   ]
  },
  {
   "cell_type": "code",
   "execution_count": 24,
   "metadata": {},
   "outputs": [],
   "source": [
    "loss = torch.nn.MSELoss()\n",
    "params = [p for p in main_model.parameters() if p.requires_grad]\n",
    "optimizer = torch.optim.Adam(params)"
   ]
  },
  {
   "cell_type": "code",
   "execution_count": 25,
   "metadata": {},
   "outputs": [
    {
     "ename": "NameError",
     "evalue": "name 'Xtrain_torch' is not defined",
     "output_type": "error",
     "traceback": [
      "\u001b[0;31m---------------------------------------------------------------------------\u001b[0m",
      "\u001b[0;31mNameError\u001b[0m                                 Traceback (most recent call last)",
      "Cell \u001b[0;32mIn[25], line 3\u001b[0m\n\u001b[1;32m      1\u001b[0m epochs \u001b[38;5;241m=\u001b[39m \u001b[38;5;241m10\u001b[39m\n\u001b[1;32m      2\u001b[0m batch_size \u001b[38;5;241m=\u001b[39m \u001b[38;5;241m4\u001b[39m\n\u001b[0;32m----> 3\u001b[0m num_of_batches \u001b[38;5;241m=\u001b[39m \u001b[43mXtrain_torch\u001b[49m\u001b[38;5;241m.\u001b[39msize[\u001b[38;5;241m0\u001b[39m] \u001b[38;5;241m/\u001b[39m\u001b[38;5;241m/\u001b[39m batch_size\n\u001b[1;32m      5\u001b[0m \u001b[38;5;28;01mfor\u001b[39;00m epoch \u001b[38;5;129;01min\u001b[39;00m \u001b[38;5;28mrange\u001b[39m(epochs):\n\u001b[1;32m      6\u001b[0m     \u001b[38;5;28;01mfor\u001b[39;00m batch \u001b[38;5;129;01min\u001b[39;00m \u001b[38;5;28mrange\u001b[39m(num_of_batches):\n",
      "\u001b[0;31mNameError\u001b[0m: name 'Xtrain_torch' is not defined"
     ]
    }
   ],
   "source": [
    "epochs = 10\n",
    "batch_size = 4\n",
    "num_of_batches = Xtrain_torch.size[0] // batch_size\n",
    "\n",
    "for epoch in range(epochs):\n",
    "    for batch in range(num_of_batches):\n",
    "        inputs = Xtrain_torch[batch*batch_size:(batch+1)*batch_size]\n",
    "        outputs = Ytrain_torch[batch*batch_size:(batch+1)*batch_size]\n",
    "        output = train(backbone_model, main_model, loss, optimizer, inputs, outputs)"
   ]
  }
 ],
 "metadata": {
  "kernelspec": {
   "display_name": "Python 3",
   "language": "python",
   "name": "python3"
  },
  "language_info": {
   "codemirror_mode": {
    "name": "ipython",
    "version": 3
   },
   "file_extension": ".py",
   "mimetype": "text/x-python",
   "name": "python",
   "nbconvert_exporter": "python",
   "pygments_lexer": "ipython3",
   "version": "3.8.10"
  }
 },
 "nbformat": 4,
 "nbformat_minor": 2
}
