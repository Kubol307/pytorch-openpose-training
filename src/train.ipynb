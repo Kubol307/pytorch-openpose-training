{
 "cells": [
  {
   "cell_type": "code",
   "execution_count": 4,
   "metadata": {},
   "outputs": [
    {
     "name": "stdout",
     "output_type": "stream",
     "text": [
      "/bin/pip:6: DeprecationWarning: pkg_resources is deprecated as an API. See https://setuptools.pypa.io/en/latest/pkg_resources.html\n",
      "  from pkg_resources import load_entry_point\n",
      "Requirement already satisfied: import-ipynb in /home/jakub/.local/lib/python3.8/site-packages (0.1.4)\n",
      "Requirement already satisfied: IPython in /home/jakub/.local/lib/python3.8/site-packages (from import-ipynb) (8.12.2)\n",
      "Requirement already satisfied: nbformat in /home/jakub/.local/lib/python3.8/site-packages (from import-ipynb) (5.9.1)\n",
      "Requirement already satisfied: backcall in /home/jakub/.local/lib/python3.8/site-packages (from IPython->import-ipynb) (0.2.0)\n",
      "Requirement already satisfied: decorator in /home/jakub/.local/lib/python3.8/site-packages (from IPython->import-ipynb) (5.1.1)\n",
      "Requirement already satisfied: jedi>=0.16 in /home/jakub/.local/lib/python3.8/site-packages (from IPython->import-ipynb) (0.18.2)\n",
      "Requirement already satisfied: matplotlib-inline in /home/jakub/.local/lib/python3.8/site-packages (from IPython->import-ipynb) (0.1.6)\n",
      "Requirement already satisfied: pickleshare in /home/jakub/.local/lib/python3.8/site-packages (from IPython->import-ipynb) (0.7.5)\n",
      "Requirement already satisfied: prompt-toolkit!=3.0.37,<3.1.0,>=3.0.30 in /home/jakub/.local/lib/python3.8/site-packages (from IPython->import-ipynb) (3.0.39)\n",
      "Requirement already satisfied: pygments>=2.4.0 in /home/jakub/.local/lib/python3.8/site-packages (from IPython->import-ipynb) (2.15.1)\n",
      "Requirement already satisfied: stack-data in /home/jakub/.local/lib/python3.8/site-packages (from IPython->import-ipynb) (0.6.2)\n",
      "Requirement already satisfied: traitlets>=5 in /home/jakub/.local/lib/python3.8/site-packages (from IPython->import-ipynb) (5.9.0)\n",
      "Requirement already satisfied: typing-extensions; python_version < \"3.10\" in /home/jakub/.local/lib/python3.8/site-packages (from IPython->import-ipynb) (4.5.0)\n",
      "Requirement already satisfied: pexpect>4.3; sys_platform != \"win32\" in /usr/lib/python3/dist-packages (from IPython->import-ipynb) (4.6.0)\n",
      "Requirement already satisfied: fastjsonschema in /home/jakub/.local/lib/python3.8/site-packages (from nbformat->import-ipynb) (2.17.1)\n",
      "Requirement already satisfied: jsonschema>=2.6 in /home/jakub/.local/lib/python3.8/site-packages (from nbformat->import-ipynb) (4.18.0)\n",
      "Requirement already satisfied: jupyter-core in /home/jakub/.local/lib/python3.8/site-packages (from nbformat->import-ipynb) (5.3.1)\n",
      "Requirement already satisfied: parso<0.9.0,>=0.8.0 in /home/jakub/.local/lib/python3.8/site-packages (from jedi>=0.16->IPython->import-ipynb) (0.8.3)\n",
      "Requirement already satisfied: wcwidth in /usr/lib/python3/dist-packages (from prompt-toolkit!=3.0.37,<3.1.0,>=3.0.30->IPython->import-ipynb) (0.1.8)\n",
      "Requirement already satisfied: executing>=1.2.0 in /home/jakub/.local/lib/python3.8/site-packages (from stack-data->IPython->import-ipynb) (1.2.0)\n",
      "Requirement already satisfied: asttokens>=2.1.0 in /home/jakub/.local/lib/python3.8/site-packages (from stack-data->IPython->import-ipynb) (2.2.1)\n",
      "Requirement already satisfied: pure-eval in /home/jakub/.local/lib/python3.8/site-packages (from stack-data->IPython->import-ipynb) (0.2.2)\n",
      "Requirement already satisfied: attrs>=22.2.0 in /home/jakub/.local/lib/python3.8/site-packages (from jsonschema>=2.6->nbformat->import-ipynb) (23.1.0)\n",
      "Requirement already satisfied: importlib-resources>=1.4.0; python_version < \"3.9\" in /home/jakub/.local/lib/python3.8/site-packages (from jsonschema>=2.6->nbformat->import-ipynb) (5.12.0)\n",
      "Requirement already satisfied: jsonschema-specifications>=2023.03.6 in /home/jakub/.local/lib/python3.8/site-packages (from jsonschema>=2.6->nbformat->import-ipynb) (2023.6.1)\n",
      "Requirement already satisfied: pkgutil-resolve-name>=1.3.10; python_version < \"3.9\" in /home/jakub/.local/lib/python3.8/site-packages (from jsonschema>=2.6->nbformat->import-ipynb) (1.3.10)\n",
      "Requirement already satisfied: referencing>=0.28.4 in /home/jakub/.local/lib/python3.8/site-packages (from jsonschema>=2.6->nbformat->import-ipynb) (0.29.1)\n",
      "Requirement already satisfied: rpds-py>=0.7.1 in /home/jakub/.local/lib/python3.8/site-packages (from jsonschema>=2.6->nbformat->import-ipynb) (0.8.10)\n",
      "Requirement already satisfied: platformdirs>=2.5 in /home/jakub/.local/lib/python3.8/site-packages (from jupyter-core->nbformat->import-ipynb) (3.5.1)\n",
      "Requirement already satisfied: six in /usr/lib/python3/dist-packages (from asttokens>=2.1.0->stack-data->IPython->import-ipynb) (1.14.0)\n",
      "Requirement already satisfied: zipp>=3.1.0; python_version < \"3.10\" in /home/jakub/.local/lib/python3.8/site-packages (from importlib-resources>=1.4.0; python_version < \"3.9\"->jsonschema>=2.6->nbformat->import-ipynb) (3.15.0)\n"
     ]
    }
   ],
   "source": [
    "! pip install import-ipynb"
   ]
  },
  {
   "cell_type": "code",
   "execution_count": 5,
   "metadata": {},
   "outputs": [
    {
     "name": "stderr",
     "output_type": "stream",
     "text": [
      "/tmp/ipykernel_36381/534042546.py:6: DeprecationWarning: Please use `gaussian_filter` from the `scipy.ndimage` namespace, the `scipy.ndimage.filters` namespace is deprecated.\n",
      "  from scipy.ndimage.filters import gaussian_filter\n"
     ]
    },
    {
     "name": "stdout",
     "output_type": "stream",
     "text": [
      "importing Jupyter notebook from train_model.ipynb\n",
      "importing Jupyter notebook from coco_dataset.ipynb\n"
     ]
    }
   ],
   "source": [
    "from model import BodyposeModel\n",
    "import cv2\n",
    "import numpy as np\n",
    "import math\n",
    "import time\n",
    "from scipy.ndimage.filters import gaussian_filter\n",
    "import matplotlib.pyplot as plt\n",
    "import matplotlib\n",
    "import torch\n",
    "from torchvision import transforms\n",
    "import util\n",
    "from torchsummary import summary\n",
    "from body import Body\n",
    "import import_ipynb\n",
    "from train_model import BodyposeBackbone, MainModel\n",
    "from coco_dataset import COCODataset, transform_image\n",
    "from copy import deepcopy\n",
    "import random"
   ]
  },
  {
   "cell_type": "code",
   "execution_count": 6,
   "metadata": {},
   "outputs": [],
   "source": [
    "NO_OF_OUTPUTS = 21"
   ]
  },
  {
   "cell_type": "code",
   "execution_count": 7,
   "metadata": {},
   "outputs": [],
   "source": [
    "colors = [[255, 0, 0], [255, 85, 0], [255, 170, 0], [255, 255, 0], [170, 255, 0], [85, 255, 0], [0, 255, 0], \\\n",
    "            [0, 255, 85], [0, 255, 170], [0, 255, 255], [0, 170, 255], [0, 85, 255], [0, 0, 255], [85, 0, 255], \\\n",
    "            [170, 0, 255], [255, 0, 255], [255, 0, 170], [255, 0, 85], [255, 255, 255]]"
   ]
  },
  {
   "cell_type": "code",
   "execution_count": 8,
   "metadata": {},
   "outputs": [],
   "source": [
    "new_order = [0, 15, 14, 17, 16, 5, 2, 6, 3, 7, 4, 11, 8, 12, 9, 13, 10]"
   ]
  },
  {
   "cell_type": "code",
   "execution_count": 9,
   "metadata": {},
   "outputs": [],
   "source": [
    "backbone_model_path = '../model/body_pose_model.pth'"
   ]
  },
  {
   "cell_type": "code",
   "execution_count": 10,
   "metadata": {},
   "outputs": [],
   "source": [
    "backbone_model = BodyposeBackbone()"
   ]
  },
  {
   "cell_type": "code",
   "execution_count": 11,
   "metadata": {},
   "outputs": [],
   "source": [
    "backbone_params = torch.load(backbone_model_path)"
   ]
  },
  {
   "cell_type": "code",
   "execution_count": 12,
   "metadata": {},
   "outputs": [],
   "source": [
    "backbone_dict = util.transfer(backbone_model, backbone_params)"
   ]
  },
  {
   "cell_type": "code",
   "execution_count": 13,
   "metadata": {},
   "outputs": [
    {
     "data": {
      "text/plain": [
       "<All keys matched successfully>"
      ]
     },
     "execution_count": 13,
     "metadata": {},
     "output_type": "execute_result"
    }
   ],
   "source": [
    "backbone_model.load_state_dict(backbone_dict)"
   ]
  },
  {
   "cell_type": "code",
   "execution_count": 14,
   "metadata": {},
   "outputs": [],
   "source": [
    "main_model = MainModel(NO_OF_OUTPUTS)"
   ]
  },
  {
   "cell_type": "code",
   "execution_count": 15,
   "metadata": {},
   "outputs": [
    {
     "name": "stdout",
     "output_type": "stream",
     "text": [
      "loading annotations into memory...\n"
     ]
    },
    {
     "name": "stdout",
     "output_type": "stream",
     "text": [
      "Done (t=1.00s)\n",
      "creating index...\n",
      "index created!\n"
     ]
    }
   ],
   "source": [
    "train_data = COCODataset('/media/jakub/One Touch/coco_pose/coco2017labels-pose/coco-pose', transforms=transform_image(split='train'))"
   ]
  },
  {
   "cell_type": "code",
   "execution_count": 16,
   "metadata": {},
   "outputs": [],
   "source": [
    "skeleton = train_data.coco.cats[1]['skeleton']\n",
    "skeleton = [[connection[0]-1, connection[1]-1] for connection in skeleton]"
   ]
  },
  {
   "cell_type": "code",
   "execution_count": 70,
   "metadata": {},
   "outputs": [],
   "source": [
    "index = random.randint(0, 100)\n",
    "anns = []\n",
    "while anns == []:\n",
    "    for id in train_data.coco.getAnnIds():\n",
    "        if train_data.coco.anns[id]['image_id'] == train_data.coco.getImgIds()[index]:\n",
    "            ann = train_data.coco.anns[id]\n",
    "            if 1 in ann['keypoints'] or 2 in ann['keypoints']:\n",
    "                anns.append(ann)\n",
    "    if anns == []:\n",
    "        index = random.randint(0, 100)\n",
    "\n"
   ]
  },
  {
   "cell_type": "code",
   "execution_count": 71,
   "metadata": {},
   "outputs": [
    {
     "data": {
      "text/plain": [
       "[{'segmentation': [[362.86,\n",
       "    41.22,\n",
       "    338,\n",
       "    57.78,\n",
       "    334.69,\n",
       "    60.27,\n",
       "    331.38,\n",
       "    70.21,\n",
       "    333.86,\n",
       "    89.26,\n",
       "    334.69,\n",
       "    95.89,\n",
       "    330.55,\n",
       "    95.89,\n",
       "    325.58,\n",
       "    92.58,\n",
       "    323.92,\n",
       "    100.03,\n",
       "    325.58,\n",
       "    109.15,\n",
       "    321.44,\n",
       "    116.6,\n",
       "    317.29,\n",
       "    121.57,\n",
       "    311.49,\n",
       "    134,\n",
       "    307.35,\n",
       "    143.11,\n",
       "    306.52,\n",
       "    154.71,\n",
       "    300.72,\n",
       "    166.31,\n",
       "    288.3,\n",
       "    182.05,\n",
       "    282.5,\n",
       "    182.88,\n",
       "    274.21,\n",
       "    190.33,\n",
       "    267.59,\n",
       "    186.19,\n",
       "    264.27,\n",
       "    180.39,\n",
       "    259.3,\n",
       "    182.05,\n",
       "    259.3,\n",
       "    194.48,\n",
       "    256.82,\n",
       "    211.87,\n",
       "    260.96,\n",
       "    212.7,\n",
       "    273.39,\n",
       "    209.39,\n",
       "    284.98,\n",
       "    209.39,\n",
       "    307.35,\n",
       "    200.28,\n",
       "    313.98,\n",
       "    195.31,\n",
       "    318.95,\n",
       "    188.68,\n",
       "    329.72,\n",
       "    166.31,\n",
       "    334.69,\n",
       "    158.85,\n",
       "    343.8,\n",
       "    150.57,\n",
       "    347.12,\n",
       "    163.82,\n",
       "    340.49,\n",
       "    201.1,\n",
       "    334.69,\n",
       "    219.33,\n",
       "    333.86,\n",
       "    221.82,\n",
       "    334.69,\n",
       "    242.53,\n",
       "    339.66,\n",
       "    250.81,\n",
       "    342.15,\n",
       "    254.95,\n",
       "    343.8,\n",
       "    273.18,\n",
       "    348.77,\n",
       "    285.61,\n",
       "    347.95,\n",
       "    293.89,\n",
       "    347.12,\n",
       "    299.69,\n",
       "    352.09,\n",
       "    306.32,\n",
       "    363.69,\n",
       "    306.32,\n",
       "    369.49,\n",
       "    306.32,\n",
       "    371.97,\n",
       "    294.72,\n",
       "    369.49,\n",
       "    285.61,\n",
       "    371.14,\n",
       "    267.38,\n",
       "    369.49,\n",
       "    225.96,\n",
       "    369.49,\n",
       "    212.7,\n",
       "    376.11,\n",
       "    196.96,\n",
       "    380.26,\n",
       "    194.48,\n",
       "    381.08,\n",
       "    204.42,\n",
       "    379.43,\n",
       "    217.67,\n",
       "    376.11,\n",
       "    235.9,\n",
       "    379.43,\n",
       "    246.67,\n",
       "    389.37,\n",
       "    254.12,\n",
       "    400.14,\n",
       "    265.72,\n",
       "    415.05,\n",
       "    267.38,\n",
       "    423.33,\n",
       "    269.87,\n",
       "    441.56,\n",
       "    288.09,\n",
       "    445.7,\n",
       "    289.75,\n",
       "    453.99,\n",
       "    285.61,\n",
       "    456.47,\n",
       "    277.32,\n",
       "    453.99,\n",
       "    271.52,\n",
       "    443.22,\n",
       "    261.58,\n",
       "    441.56,\n",
       "    258.27,\n",
       "    438.25,\n",
       "    252.47,\n",
       "    431.62,\n",
       "    241.7,\n",
       "    421.68,\n",
       "    233.41,\n",
       "    410.08,\n",
       "    225.13,\n",
       "    424.99,\n",
       "    182.05,\n",
       "    431.62,\n",
       "    155.54,\n",
       "    470.56,\n",
       "    194.48,\n",
       "    491.27,\n",
       "    201.1,\n",
       "    493.75,\n",
       "    204.42,\n",
       "    500.38,\n",
       "    206.9,\n",
       "    501.21,\n",
       "    206.9,\n",
       "    502.04,\n",
       "    202.76,\n",
       "    508.66,\n",
       "    205.25,\n",
       "    512.81,\n",
       "    204.42,\n",
       "    514.46,\n",
       "    196.13,\n",
       "    502.04,\n",
       "    190.33,\n",
       "    492.92,\n",
       "    186.19,\n",
       "    456.36,\n",
       "    138.66,\n",
       "    449.78,\n",
       "    122.57,\n",
       "    446.12,\n",
       "    107.95,\n",
       "    431.5,\n",
       "    94.78,\n",
       "    424.18,\n",
       "    94.78,\n",
       "    412.48,\n",
       "    87.47,\n",
       "    405.17,\n",
       "    80.16,\n",
       "    405.17,\n",
       "    69.92,\n",
       "    404.44,\n",
       "    58.22,\n",
       "    397.13,\n",
       "    45.79,\n",
       "    385.43,\n",
       "    39.94,\n",
       "    376.65,\n",
       "    37.01]],\n",
       "  'num_keypoints': 16,\n",
       "  'area': 25741.9414,\n",
       "  'iscrowd': 0,\n",
       "  'keypoints': [354,\n",
       "   100,\n",
       "   2,\n",
       "   365,\n",
       "   91,\n",
       "   2,\n",
       "   352,\n",
       "   91,\n",
       "   2,\n",
       "   387,\n",
       "   89,\n",
       "   2,\n",
       "   0,\n",
       "   0,\n",
       "   0,\n",
       "   428,\n",
       "   108,\n",
       "   2,\n",
       "   332,\n",
       "   111,\n",
       "   2,\n",
       "   455,\n",
       "   160,\n",
       "   2,\n",
       "   314,\n",
       "   173,\n",
       "   2,\n",
       "   485,\n",
       "   191,\n",
       "   2,\n",
       "   290,\n",
       "   193,\n",
       "   2,\n",
       "   410,\n",
       "   176,\n",
       "   2,\n",
       "   359,\n",
       "   176,\n",
       "   2,\n",
       "   391,\n",
       "   237,\n",
       "   2,\n",
       "   351,\n",
       "   215,\n",
       "   2,\n",
       "   432,\n",
       "   262,\n",
       "   2,\n",
       "   357,\n",
       "   278,\n",
       "   2],\n",
       "  'image_id': 476258,\n",
       "  'bbox': [256.82, 37.01, 257.64, 269.31],\n",
       "  'category_id': 1,\n",
       "  'id': 484929}]"
      ]
     },
     "execution_count": 71,
     "metadata": {},
     "output_type": "execute_result"
    }
   ],
   "source": [
    "anns"
   ]
  },
  {
   "cell_type": "code",
   "execution_count": 72,
   "metadata": {},
   "outputs": [],
   "source": [
    "bboxes = [ann['bbox'] for ann in anns]"
   ]
  },
  {
   "cell_type": "code",
   "execution_count": 73,
   "metadata": {},
   "outputs": [],
   "source": [
    "bboxes = [[int(element) for element in box] for box in bboxes]"
   ]
  },
  {
   "cell_type": "code",
   "execution_count": 74,
   "metadata": {},
   "outputs": [],
   "source": [
    "keypoints = [ann['keypoints'] for ann in anns]"
   ]
  },
  {
   "cell_type": "code",
   "execution_count": 75,
   "metadata": {},
   "outputs": [],
   "source": [
    "new_keypoints = []\n",
    "for keypoint in keypoints:\n",
    "    new_keypoints.append([[keypoint[i], keypoint[i+1], keypoint[i+2]] for i in range(0, len(keypoint), 3)])\n",
    "keypoints = new_keypoints"
   ]
  },
  {
   "cell_type": "code",
   "execution_count": 76,
   "metadata": {},
   "outputs": [],
   "source": [
    "image = train_data._load_image(train_data.coco.getImgIds()[index])\n",
    "for bbox in bboxes:\n",
    "    cv2.rectangle(image, (bbox[0], bbox[1]), (bbox[0]+bbox[2], bbox[1]+bbox[3]), (0, 0, 255))\n",
    "for i, connection in enumerate(skeleton):\n",
    "    for keypoint in keypoints:\n",
    "        point1 = keypoint[connection[0]]\n",
    "        point2 = keypoint[connection[1]]\n",
    "        if point1[2] != 0 and point2[2] != 0:\n",
    "            cv2.line(image, point1[:-1], point2[:-1], color=colors[i], thickness=3)\n",
    "cv2.imshow('Example image', image)\n",
    "cv2.waitKey(5_000)\n",
    "cv2.destroyAllWindows()"
   ]
  },
  {
   "cell_type": "code",
   "execution_count": 77,
   "metadata": {},
   "outputs": [],
   "source": [
    "def train(backbone_model, main_model, loss, optimizer, inputs, outputs):\n",
    "    optimizer.zero_grad()\n",
    "    main_model.train()\n",
    "\n",
    "    out1 = backbone_model(inputs)\n",
    "    logits = main_model(out1)\n",
    "    output = loss.forward(logits, outputs)\n",
    "    output.backward()\n",
    "    optimizer.step()\n",
    "\n",
    "    return output.item()"
   ]
  },
  {
   "cell_type": "code",
   "execution_count": 78,
   "metadata": {},
   "outputs": [],
   "source": [
    "loss = torch.nn.MSELoss()\n",
    "params = [p for p in main_model.parameters() if p.requires_grad]\n",
    "optimizer = torch.optim.Adam(params)"
   ]
  },
  {
   "cell_type": "code",
   "execution_count": 79,
   "metadata": {},
   "outputs": [
    {
     "ename": "NameError",
     "evalue": "name 'Xtrain_torch' is not defined",
     "output_type": "error",
     "traceback": [
      "\u001b[0;31m---------------------------------------------------------------------------\u001b[0m",
      "\u001b[0;31mNameError\u001b[0m                                 Traceback (most recent call last)",
      "Cell \u001b[0;32mIn[79], line 3\u001b[0m\n\u001b[1;32m      1\u001b[0m epochs \u001b[38;5;241m=\u001b[39m \u001b[38;5;241m10\u001b[39m\n\u001b[1;32m      2\u001b[0m batch_size \u001b[38;5;241m=\u001b[39m \u001b[38;5;241m4\u001b[39m\n\u001b[0;32m----> 3\u001b[0m num_of_batches \u001b[38;5;241m=\u001b[39m \u001b[43mXtrain_torch\u001b[49m\u001b[38;5;241m.\u001b[39msize[\u001b[38;5;241m0\u001b[39m] \u001b[38;5;241m/\u001b[39m\u001b[38;5;241m/\u001b[39m batch_size\n\u001b[1;32m      5\u001b[0m \u001b[38;5;28;01mfor\u001b[39;00m epoch \u001b[38;5;129;01min\u001b[39;00m \u001b[38;5;28mrange\u001b[39m(epochs):\n\u001b[1;32m      6\u001b[0m     \u001b[38;5;28;01mfor\u001b[39;00m batch \u001b[38;5;129;01min\u001b[39;00m \u001b[38;5;28mrange\u001b[39m(num_of_batches):\n",
      "\u001b[0;31mNameError\u001b[0m: name 'Xtrain_torch' is not defined"
     ]
    }
   ],
   "source": [
    "epochs = 10\n",
    "batch_size = 4\n",
    "num_of_batches = Xtrain_torch.size[0] // batch_size\n",
    "\n",
    "for epoch in range(epochs):\n",
    "    for batch in range(num_of_batches):\n",
    "        inputs = Xtrain_torch[batch*batch_size:(batch+1)*batch_size]\n",
    "        outputs = Ytrain_torch[batch*batch_size:(batch+1)*batch_size]\n",
    "        output = train(backbone_model, main_model, loss, optimizer, inputs, outputs)"
   ]
  }
 ],
 "metadata": {
  "kernelspec": {
   "display_name": "Python 3",
   "language": "python",
   "name": "python3"
  },
  "language_info": {
   "codemirror_mode": {
    "name": "ipython",
    "version": 3
   },
   "file_extension": ".py",
   "mimetype": "text/x-python",
   "name": "python",
   "nbconvert_exporter": "python",
   "pygments_lexer": "ipython3",
   "version": "3.8.10"
  }
 },
 "nbformat": 4,
 "nbformat_minor": 2
}
